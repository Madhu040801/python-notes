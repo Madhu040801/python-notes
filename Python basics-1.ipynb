{
  "nbformat": 4,
  "nbformat_minor": 0,
  "metadata": {
    "colab": {
      "provenance": []
    },
    "kernelspec": {
      "name": "python3",
      "display_name": "Python 3"
    },
    "language_info": {
      "name": "python"
    }
  },
  "cells": [
    {
      "cell_type": "markdown",
      "source": [
        "1. Problem Statement: Hello World\n"
      ],
      "metadata": {
        "id": "du3Mip7x6sUi"
      }
    },
    {
      "cell_type": "code",
      "execution_count": null,
      "metadata": {
        "colab": {
          "base_uri": "https://localhost:8080/"
        },
        "id": "KPoi5NK44tHP",
        "outputId": "73cc0960-84bc-4310-fd07-95e550bd2390"
      },
      "outputs": [
        {
          "output_type": "stream",
          "name": "stdout",
          "text": [
            "Hello World!\n"
          ]
        }
      ],
      "source": [
        "print(\"Hello World!\")"
      ]
    },
    {
      "cell_type": "markdown",
      "source": [
        "Q2. Problem Statement: Understanding VariablesWrite a Python program to create two variables, assign integer values to them and add them using the “+” operator to store the result in another variable and print it."
      ],
      "metadata": {
        "id": "kQneusdK7X2j"
      }
    },
    {
      "cell_type": "code",
      "source": [
        "x=20\n",
        "y=50\n",
        "z=x+y\n",
        "print('Result of addition is: ',z)"
      ],
      "metadata": {
        "colab": {
          "base_uri": "https://localhost:8080/"
        },
        "id": "MVyHdbJ35HUz",
        "outputId": "7b77bc36-dbe7-4d27-e5aa-776dfac2a685"
      },
      "execution_count": null,
      "outputs": [
        {
          "output_type": "stream",
          "name": "stdout",
          "text": [
            "Result of addition is:  70\n"
          ]
        }
      ]
    },
    {
      "cell_type": "markdown",
      "source": [
        "Q3. Problem Statement: Understanding TokensWrite a Python program to create two variables, assign random values to them and add them using the “+” operator to store the result in another variable and print it."
      ],
      "metadata": {
        "id": "-nYi6FQn7eQW"
      }
    },
    {
      "cell_type": "code",
      "source": [
        "x=15\n",
        "y=20\n",
        "z=x+y\n",
        "print('Edureka! ',z)"
      ],
      "metadata": {
        "colab": {
          "base_uri": "https://localhost:8080/"
        },
        "id": "F4PrgKVU59LF",
        "outputId": "74fe24d2-8680-4d8c-8610-5e47a6886ffb"
      },
      "execution_count": null,
      "outputs": [
        {
          "output_type": "stream",
          "name": "stdout",
          "text": [
            "Edureka!  35\n"
          ]
        }
      ]
    }
  ]
}